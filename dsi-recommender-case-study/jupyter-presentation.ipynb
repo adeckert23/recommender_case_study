{
 "cells": [
  {
   "cell_type": "code",
   "execution_count": 1,
   "metadata": {},
   "outputs": [],
   "source": [
    "import pyspark\n",
    "from pyspark.sql import SparkSession\n",
    "from pyspark.ml.recommendation import ALS\n",
    "import numpy as np\n",
    "import pandas as pd\n",
    "from scipy import sparse\n",
    "from sklearn.metrics.pairwise import cosine_similarity\n",
    "from pyspark.ml.evaluation import RegressionEvaluator\n",
    "from pyspark.ml.tuning import TrainValidationSplit, ParamGridBuilder\n",
    "\n",
    "from sklearn.metrics import silhouette_score\n",
    "from mpl_toolkits.mplot3d import Axes3D\n",
    "import matplotlib.pyplot as plt\n",
    "\n",
    "# Setup a SparkSession\n",
    "spark = SparkSession.builder.config(\"spark.rpc.message.maxSize\",1024).getOrCreate()"
   ]
  },
  {
   "cell_type": "code",
   "execution_count": 3,
   "metadata": {},
   "outputs": [
    {
     "name": "stderr",
     "output_type": "stream",
     "text": [
      "/home/hadoop/anaconda/lib/python3.6/site-packages/ipykernel_launcher.py:10: ParserWarning: Falling back to the 'python' engine because the 'c' engine does not support regex separators (separators > 1 char and different from '\\s+' are interpreted as regex); you can avoid this warning by specifying engine='python'.\n",
      "  # Remove the CWD from sys.path while we load stuff.\n"
     ]
    }
   ],
   "source": [
    "# Training sample\n",
    "data = pd.read_csv('training.csv')\n",
    "data = data.drop('timestamp',axis=1)\n",
    "\n",
    "# Test sample\n",
    "data_requests = pd.read_csv('requests.csv')\n",
    "data_requests_spark = spark.createDataFrame(data_requests)\n",
    "\n",
    "# Users metadata\n",
    "usersdb = pd.read_csv('users.dat',sep='::',header=None,names=['UserID','Gender','Age','Occupation','Zip-code'])\n",
    "usersdb = pd.get_dummies(usersdb, columns=['Gender'], drop_first=True)"
   ]
  },
  {
   "cell_type": "markdown",
   "metadata": {},
   "source": [
    "Looking at our training data, we saw much of the user data is very sparse, and to make the predictions better, we thought we could use KMeans clustering to group the users together by some demographic information"
   ]
  },
  {
   "cell_type": "code",
   "execution_count": 57,
   "metadata": {},
   "outputs": [
    {
     "data": {
      "text/html": [
       "<div>\n",
       "<style scoped>\n",
       "    .dataframe tbody tr th:only-of-type {\n",
       "        vertical-align: middle;\n",
       "    }\n",
       "\n",
       "    .dataframe tbody tr th {\n",
       "        vertical-align: top;\n",
       "    }\n",
       "\n",
       "    .dataframe thead th {\n",
       "        text-align: right;\n",
       "    }\n",
       "</style>\n",
       "<table border=\"1\" class=\"dataframe\">\n",
       "  <thead>\n",
       "    <tr style=\"text-align: right;\">\n",
       "      <th></th>\n",
       "      <th>UserID</th>\n",
       "      <th>Age</th>\n",
       "      <th>Occupation</th>\n",
       "      <th>Zip-code</th>\n",
       "      <th>Gender_M</th>\n",
       "    </tr>\n",
       "  </thead>\n",
       "  <tbody>\n",
       "    <tr>\n",
       "      <th>0</th>\n",
       "      <td>1</td>\n",
       "      <td>1</td>\n",
       "      <td>10</td>\n",
       "      <td>48067</td>\n",
       "      <td>0</td>\n",
       "    </tr>\n",
       "    <tr>\n",
       "      <th>1</th>\n",
       "      <td>2</td>\n",
       "      <td>56</td>\n",
       "      <td>16</td>\n",
       "      <td>70072</td>\n",
       "      <td>1</td>\n",
       "    </tr>\n",
       "    <tr>\n",
       "      <th>2</th>\n",
       "      <td>3</td>\n",
       "      <td>25</td>\n",
       "      <td>15</td>\n",
       "      <td>55117</td>\n",
       "      <td>1</td>\n",
       "    </tr>\n",
       "    <tr>\n",
       "      <th>3</th>\n",
       "      <td>4</td>\n",
       "      <td>45</td>\n",
       "      <td>7</td>\n",
       "      <td>02460</td>\n",
       "      <td>1</td>\n",
       "    </tr>\n",
       "    <tr>\n",
       "      <th>4</th>\n",
       "      <td>5</td>\n",
       "      <td>25</td>\n",
       "      <td>20</td>\n",
       "      <td>55455</td>\n",
       "      <td>1</td>\n",
       "    </tr>\n",
       "    <tr>\n",
       "      <th>5</th>\n",
       "      <td>6</td>\n",
       "      <td>50</td>\n",
       "      <td>9</td>\n",
       "      <td>55117</td>\n",
       "      <td>0</td>\n",
       "    </tr>\n",
       "    <tr>\n",
       "      <th>6</th>\n",
       "      <td>7</td>\n",
       "      <td>35</td>\n",
       "      <td>1</td>\n",
       "      <td>06810</td>\n",
       "      <td>1</td>\n",
       "    </tr>\n",
       "    <tr>\n",
       "      <th>7</th>\n",
       "      <td>8</td>\n",
       "      <td>25</td>\n",
       "      <td>12</td>\n",
       "      <td>11413</td>\n",
       "      <td>1</td>\n",
       "    </tr>\n",
       "    <tr>\n",
       "      <th>8</th>\n",
       "      <td>9</td>\n",
       "      <td>25</td>\n",
       "      <td>17</td>\n",
       "      <td>61614</td>\n",
       "      <td>1</td>\n",
       "    </tr>\n",
       "    <tr>\n",
       "      <th>9</th>\n",
       "      <td>10</td>\n",
       "      <td>35</td>\n",
       "      <td>1</td>\n",
       "      <td>95370</td>\n",
       "      <td>0</td>\n",
       "    </tr>\n",
       "  </tbody>\n",
       "</table>\n",
       "</div>"
      ],
      "text/plain": [
       "   UserID  Age  Occupation Zip-code  Gender_M\n",
       "0       1    1          10    48067         0\n",
       "1       2   56          16    70072         1\n",
       "2       3   25          15    55117         1\n",
       "3       4   45           7    02460         1\n",
       "4       5   25          20    55455         1\n",
       "5       6   50           9    55117         0\n",
       "6       7   35           1    06810         1\n",
       "7       8   25          12    11413         1\n",
       "8       9   25          17    61614         1\n",
       "9      10   35           1    95370         0"
      ]
     },
     "execution_count": 57,
     "metadata": {},
     "output_type": "execute_result"
    }
   ],
   "source": [
    "usersdb.iloc[0:10,:]"
   ]
  },
  {
   "cell_type": "markdown",
   "metadata": {},
   "source": [
    "I think the most telling demographic information is age and gender (at least to start our basic model), and after some testing, we found that 4 clusters got us the best results in the silhouette score."
   ]
  },
  {
   "cell_type": "code",
   "execution_count": 45,
   "metadata": {},
   "outputs": [
    {
     "data": {
      "text/plain": [
       "<matplotlib.collections.PathCollection at 0x7f157cf65668>"
      ]
     },
     "execution_count": 45,
     "metadata": {},
     "output_type": "execute_result"
    },
    {
     "data": {
      "image/png": "[encoded data removed]",
      "text/plain": [
       "<Figure size 432x288 with 1 Axes>"
      ]
     },
     "metadata": {},
     "output_type": "display_data"
    }
   ],
   "source": [
    "#Kmeans clustering\n",
    "dataKmeans = usersdb[['Age','Gender_M']]\n",
    "kmeans_model = KMeans(n_clusters=4, n_init = 10, max_iter =100, random_state=1).fit(dataKmeans)\n",
    "labels=kmeans_model.labels_\n",
    "silhouette_score(dataKmeans, labels, metric='euclidean') #0.76\n",
    "plt.scatter(dataKmeans.iloc[:,0],usersdb.iloc[:,0],c=labels)"
   ]
  },
  {
   "cell_type": "code",
   "execution_count": 46,
   "metadata": {},
   "outputs": [
    {
     "data": {
      "text/plain": [
       "0.7652377651028343"
      ]
     },
     "execution_count": 46,
     "metadata": {},
     "output_type": "execute_result"
    }
   ],
   "source": [
    "silhouette_score(dataKmeans, labels, metric='euclidean') #0.76"
   ]
  },
  {
   "cell_type": "code",
   "execution_count": 9,
   "metadata": {},
   "outputs": [],
   "source": [
    "labels=kmeans_model.labels_"
   ]
  },
  {
   "cell_type": "code",
   "execution_count": 10,
   "metadata": {},
   "outputs": [
    {
     "data": {
      "text/plain": [
       "array([2, 1, 0, ..., 1, 1, 0], dtype=int32)"
      ]
     },
     "execution_count": 10,
     "metadata": {},
     "output_type": "execute_result"
    }
   ],
   "source": [
    "labels"
   ]
  },
  {
   "cell_type": "code",
   "execution_count": 11,
   "metadata": {},
   "outputs": [],
   "source": [
    "#Joining kmeans labels and data matrix on user id\n",
    "data_matrix_pd = pd.pivot_table(data, values='rating', index=['user'], columns=['movie'], aggfunc=np.mean)\n",
    "data_matrix_pd['index1'] = data_matrix_pd.index"
   ]
  },
  {
   "cell_type": "markdown",
   "metadata": {},
   "source": [
    "As you can see below, this is an extremely sparse matrix.  We could fill in the values for all the means of each column, but we decided to cluster the users first, and fill in the values using the means of each cluster, thinking that would get us better results."
   ]
  },
  {
   "cell_type": "code",
   "execution_count": 12,
   "metadata": {},
   "outputs": [
    {
     "data": {
      "text/html": [
       "<div>\n",
       "<style scoped>\n",
       "    .dataframe tbody tr th:only-of-type {\n",
       "        vertical-align: middle;\n",
       "    }\n",
       "\n",
       "    .dataframe tbody tr th {\n",
       "        vertical-align: top;\n",
       "    }\n",
       "\n",
       "    .dataframe thead th {\n",
       "        text-align: right;\n",
       "    }\n",
       "</style>\n",
       "<table border=\"1\" class=\"dataframe\">\n",
       "  <thead>\n",
       "    <tr style=\"text-align: right;\">\n",
       "      <th>movie</th>\n",
       "      <th>1</th>\n",
       "      <th>2</th>\n",
       "      <th>3</th>\n",
       "      <th>4</th>\n",
       "      <th>5</th>\n",
       "      <th>6</th>\n",
       "      <th>7</th>\n",
       "      <th>8</th>\n",
       "      <th>9</th>\n",
       "      <th>10</th>\n",
       "      <th>...</th>\n",
       "      <th>3944</th>\n",
       "      <th>3945</th>\n",
       "      <th>3946</th>\n",
       "      <th>3947</th>\n",
       "      <th>3948</th>\n",
       "      <th>3949</th>\n",
       "      <th>3950</th>\n",
       "      <th>3951</th>\n",
       "      <th>3952</th>\n",
       "      <th>index1</th>\n",
       "    </tr>\n",
       "    <tr>\n",
       "      <th>user</th>\n",
       "      <th></th>\n",
       "      <th></th>\n",
       "      <th></th>\n",
       "      <th></th>\n",
       "      <th></th>\n",
       "      <th></th>\n",
       "      <th></th>\n",
       "      <th></th>\n",
       "      <th></th>\n",
       "      <th></th>\n",
       "      <th></th>\n",
       "      <th></th>\n",
       "      <th></th>\n",
       "      <th></th>\n",
       "      <th></th>\n",
       "      <th></th>\n",
       "      <th></th>\n",
       "      <th></th>\n",
       "      <th></th>\n",
       "      <th></th>\n",
       "      <th></th>\n",
       "    </tr>\n",
       "  </thead>\n",
       "  <tbody>\n",
       "    <tr>\n",
       "      <th>636</th>\n",
       "      <td>NaN</td>\n",
       "      <td>NaN</td>\n",
       "      <td>NaN</td>\n",
       "      <td>NaN</td>\n",
       "      <td>NaN</td>\n",
       "      <td>NaN</td>\n",
       "      <td>NaN</td>\n",
       "      <td>NaN</td>\n",
       "      <td>NaN</td>\n",
       "      <td>NaN</td>\n",
       "      <td>...</td>\n",
       "      <td>NaN</td>\n",
       "      <td>NaN</td>\n",
       "      <td>NaN</td>\n",
       "      <td>NaN</td>\n",
       "      <td>NaN</td>\n",
       "      <td>NaN</td>\n",
       "      <td>NaN</td>\n",
       "      <td>NaN</td>\n",
       "      <td>NaN</td>\n",
       "      <td>636</td>\n",
       "    </tr>\n",
       "    <tr>\n",
       "      <th>637</th>\n",
       "      <td>5.0</td>\n",
       "      <td>NaN</td>\n",
       "      <td>NaN</td>\n",
       "      <td>NaN</td>\n",
       "      <td>NaN</td>\n",
       "      <td>NaN</td>\n",
       "      <td>NaN</td>\n",
       "      <td>NaN</td>\n",
       "      <td>NaN</td>\n",
       "      <td>NaN</td>\n",
       "      <td>...</td>\n",
       "      <td>NaN</td>\n",
       "      <td>NaN</td>\n",
       "      <td>NaN</td>\n",
       "      <td>NaN</td>\n",
       "      <td>NaN</td>\n",
       "      <td>NaN</td>\n",
       "      <td>NaN</td>\n",
       "      <td>NaN</td>\n",
       "      <td>NaN</td>\n",
       "      <td>637</td>\n",
       "    </tr>\n",
       "    <tr>\n",
       "      <th>638</th>\n",
       "      <td>NaN</td>\n",
       "      <td>NaN</td>\n",
       "      <td>NaN</td>\n",
       "      <td>NaN</td>\n",
       "      <td>NaN</td>\n",
       "      <td>NaN</td>\n",
       "      <td>NaN</td>\n",
       "      <td>NaN</td>\n",
       "      <td>NaN</td>\n",
       "      <td>NaN</td>\n",
       "      <td>...</td>\n",
       "      <td>NaN</td>\n",
       "      <td>NaN</td>\n",
       "      <td>NaN</td>\n",
       "      <td>NaN</td>\n",
       "      <td>NaN</td>\n",
       "      <td>NaN</td>\n",
       "      <td>NaN</td>\n",
       "      <td>NaN</td>\n",
       "      <td>NaN</td>\n",
       "      <td>638</td>\n",
       "    </tr>\n",
       "    <tr>\n",
       "      <th>639</th>\n",
       "      <td>NaN</td>\n",
       "      <td>NaN</td>\n",
       "      <td>NaN</td>\n",
       "      <td>NaN</td>\n",
       "      <td>NaN</td>\n",
       "      <td>NaN</td>\n",
       "      <td>NaN</td>\n",
       "      <td>NaN</td>\n",
       "      <td>NaN</td>\n",
       "      <td>NaN</td>\n",
       "      <td>...</td>\n",
       "      <td>NaN</td>\n",
       "      <td>NaN</td>\n",
       "      <td>NaN</td>\n",
       "      <td>NaN</td>\n",
       "      <td>NaN</td>\n",
       "      <td>NaN</td>\n",
       "      <td>NaN</td>\n",
       "      <td>NaN</td>\n",
       "      <td>NaN</td>\n",
       "      <td>639</td>\n",
       "    </tr>\n",
       "    <tr>\n",
       "      <th>640</th>\n",
       "      <td>NaN</td>\n",
       "      <td>NaN</td>\n",
       "      <td>NaN</td>\n",
       "      <td>NaN</td>\n",
       "      <td>NaN</td>\n",
       "      <td>4.0</td>\n",
       "      <td>NaN</td>\n",
       "      <td>NaN</td>\n",
       "      <td>NaN</td>\n",
       "      <td>NaN</td>\n",
       "      <td>...</td>\n",
       "      <td>NaN</td>\n",
       "      <td>NaN</td>\n",
       "      <td>NaN</td>\n",
       "      <td>NaN</td>\n",
       "      <td>NaN</td>\n",
       "      <td>NaN</td>\n",
       "      <td>NaN</td>\n",
       "      <td>NaN</td>\n",
       "      <td>NaN</td>\n",
       "      <td>640</td>\n",
       "    </tr>\n",
       "  </tbody>\n",
       "</table>\n",
       "<p>5 rows × 3663 columns</p>\n",
       "</div>"
      ],
      "text/plain": [
       "movie    1   2   3   4   5    6   7   8   9  10   ...    3944  3945  3946  \\\n",
       "user                                              ...                       \n",
       "636    NaN NaN NaN NaN NaN  NaN NaN NaN NaN NaN   ...     NaN   NaN   NaN   \n",
       "637    5.0 NaN NaN NaN NaN  NaN NaN NaN NaN NaN   ...     NaN   NaN   NaN   \n",
       "638    NaN NaN NaN NaN NaN  NaN NaN NaN NaN NaN   ...     NaN   NaN   NaN   \n",
       "639    NaN NaN NaN NaN NaN  NaN NaN NaN NaN NaN   ...     NaN   NaN   NaN   \n",
       "640    NaN NaN NaN NaN NaN  4.0 NaN NaN NaN NaN   ...     NaN   NaN   NaN   \n",
       "\n",
       "movie  3947  3948  3949  3950  3951  3952  index1  \n",
       "user                                               \n",
       "636     NaN   NaN   NaN   NaN   NaN   NaN     636  \n",
       "637     NaN   NaN   NaN   NaN   NaN   NaN     637  \n",
       "638     NaN   NaN   NaN   NaN   NaN   NaN     638  \n",
       "639     NaN   NaN   NaN   NaN   NaN   NaN     639  \n",
       "640     NaN   NaN   NaN   NaN   NaN   NaN     640  \n",
       "\n",
       "[5 rows x 3663 columns]"
      ]
     },
     "execution_count": 12,
     "metadata": {},
     "output_type": "execute_result"
    }
   ],
   "source": [
    "data_matrix_pd.iloc[0:5,:]"
   ]
  },
  {
   "cell_type": "code",
   "execution_count": 13,
   "metadata": {},
   "outputs": [],
   "source": [
    "labels=pd.DataFrame(labels)\n",
    "labels['index1'] = labels.index+1\n",
    "\n",
    "data_matrix_merged=pd.merge(labels, data_matrix_pd, on='index1',how='outer')\n",
    "data_matrix_merged=data_matrix_merged.sort_values(by=['index1'])\n",
    "data_matrix_merged=data_matrix_merged.set_index('index1')\n",
    "data_matrix_merged.rename(columns ={0: 'label'}, inplace =True)"
   ]
  },
  {
   "cell_type": "code",
   "execution_count": 14,
   "metadata": {},
   "outputs": [
    {
     "data": {
      "text/html": [
       "<div>\n",
       "<style scoped>\n",
       "    .dataframe tbody tr th:only-of-type {\n",
       "        vertical-align: middle;\n",
       "    }\n",
       "\n",
       "    .dataframe tbody tr th {\n",
       "        vertical-align: top;\n",
       "    }\n",
       "\n",
       "    .dataframe thead th {\n",
       "        text-align: right;\n",
       "    }\n",
       "</style>\n",
       "<table border=\"1\" class=\"dataframe\">\n",
       "  <thead>\n",
       "    <tr style=\"text-align: right;\">\n",
       "      <th></th>\n",
       "      <th>label</th>\n",
       "      <th>1</th>\n",
       "      <th>2</th>\n",
       "      <th>3</th>\n",
       "      <th>4</th>\n",
       "      <th>5</th>\n",
       "      <th>6</th>\n",
       "      <th>7</th>\n",
       "      <th>8</th>\n",
       "      <th>9</th>\n",
       "      <th>...</th>\n",
       "      <th>3943</th>\n",
       "      <th>3944</th>\n",
       "      <th>3945</th>\n",
       "      <th>3946</th>\n",
       "      <th>3947</th>\n",
       "      <th>3948</th>\n",
       "      <th>3949</th>\n",
       "      <th>3950</th>\n",
       "      <th>3951</th>\n",
       "      <th>3952</th>\n",
       "    </tr>\n",
       "    <tr>\n",
       "      <th>index1</th>\n",
       "      <th></th>\n",
       "      <th></th>\n",
       "      <th></th>\n",
       "      <th></th>\n",
       "      <th></th>\n",
       "      <th></th>\n",
       "      <th></th>\n",
       "      <th></th>\n",
       "      <th></th>\n",
       "      <th></th>\n",
       "      <th></th>\n",
       "      <th></th>\n",
       "      <th></th>\n",
       "      <th></th>\n",
       "      <th></th>\n",
       "      <th></th>\n",
       "      <th></th>\n",
       "      <th></th>\n",
       "      <th></th>\n",
       "      <th></th>\n",
       "      <th></th>\n",
       "    </tr>\n",
       "  </thead>\n",
       "  <tbody>\n",
       "    <tr>\n",
       "      <th>1</th>\n",
       "      <td>2</td>\n",
       "      <td>NaN</td>\n",
       "      <td>NaN</td>\n",
       "      <td>NaN</td>\n",
       "      <td>NaN</td>\n",
       "      <td>NaN</td>\n",
       "      <td>NaN</td>\n",
       "      <td>NaN</td>\n",
       "      <td>NaN</td>\n",
       "      <td>NaN</td>\n",
       "      <td>...</td>\n",
       "      <td>NaN</td>\n",
       "      <td>NaN</td>\n",
       "      <td>NaN</td>\n",
       "      <td>NaN</td>\n",
       "      <td>NaN</td>\n",
       "      <td>NaN</td>\n",
       "      <td>NaN</td>\n",
       "      <td>NaN</td>\n",
       "      <td>NaN</td>\n",
       "      <td>NaN</td>\n",
       "    </tr>\n",
       "    <tr>\n",
       "      <th>2</th>\n",
       "      <td>1</td>\n",
       "      <td>NaN</td>\n",
       "      <td>NaN</td>\n",
       "      <td>NaN</td>\n",
       "      <td>NaN</td>\n",
       "      <td>NaN</td>\n",
       "      <td>NaN</td>\n",
       "      <td>NaN</td>\n",
       "      <td>NaN</td>\n",
       "      <td>NaN</td>\n",
       "      <td>...</td>\n",
       "      <td>NaN</td>\n",
       "      <td>NaN</td>\n",
       "      <td>NaN</td>\n",
       "      <td>NaN</td>\n",
       "      <td>NaN</td>\n",
       "      <td>NaN</td>\n",
       "      <td>NaN</td>\n",
       "      <td>NaN</td>\n",
       "      <td>NaN</td>\n",
       "      <td>NaN</td>\n",
       "    </tr>\n",
       "    <tr>\n",
       "      <th>3</th>\n",
       "      <td>0</td>\n",
       "      <td>NaN</td>\n",
       "      <td>NaN</td>\n",
       "      <td>NaN</td>\n",
       "      <td>NaN</td>\n",
       "      <td>NaN</td>\n",
       "      <td>NaN</td>\n",
       "      <td>NaN</td>\n",
       "      <td>NaN</td>\n",
       "      <td>NaN</td>\n",
       "      <td>...</td>\n",
       "      <td>NaN</td>\n",
       "      <td>NaN</td>\n",
       "      <td>NaN</td>\n",
       "      <td>NaN</td>\n",
       "      <td>NaN</td>\n",
       "      <td>NaN</td>\n",
       "      <td>NaN</td>\n",
       "      <td>NaN</td>\n",
       "      <td>NaN</td>\n",
       "      <td>NaN</td>\n",
       "    </tr>\n",
       "    <tr>\n",
       "      <th>4</th>\n",
       "      <td>1</td>\n",
       "      <td>NaN</td>\n",
       "      <td>NaN</td>\n",
       "      <td>NaN</td>\n",
       "      <td>NaN</td>\n",
       "      <td>NaN</td>\n",
       "      <td>NaN</td>\n",
       "      <td>NaN</td>\n",
       "      <td>NaN</td>\n",
       "      <td>NaN</td>\n",
       "      <td>...</td>\n",
       "      <td>NaN</td>\n",
       "      <td>NaN</td>\n",
       "      <td>NaN</td>\n",
       "      <td>NaN</td>\n",
       "      <td>NaN</td>\n",
       "      <td>NaN</td>\n",
       "      <td>NaN</td>\n",
       "      <td>NaN</td>\n",
       "      <td>NaN</td>\n",
       "      <td>NaN</td>\n",
       "    </tr>\n",
       "    <tr>\n",
       "      <th>5</th>\n",
       "      <td>0</td>\n",
       "      <td>NaN</td>\n",
       "      <td>NaN</td>\n",
       "      <td>NaN</td>\n",
       "      <td>NaN</td>\n",
       "      <td>NaN</td>\n",
       "      <td>NaN</td>\n",
       "      <td>NaN</td>\n",
       "      <td>NaN</td>\n",
       "      <td>NaN</td>\n",
       "      <td>...</td>\n",
       "      <td>NaN</td>\n",
       "      <td>NaN</td>\n",
       "      <td>NaN</td>\n",
       "      <td>NaN</td>\n",
       "      <td>NaN</td>\n",
       "      <td>NaN</td>\n",
       "      <td>NaN</td>\n",
       "      <td>NaN</td>\n",
       "      <td>NaN</td>\n",
       "      <td>NaN</td>\n",
       "    </tr>\n",
       "  </tbody>\n",
       "</table>\n",
       "<p>5 rows × 3663 columns</p>\n",
       "</div>"
      ],
      "text/plain": [
       "        label   1   2   3   4   5   6   7   8   9  ...   3943  3944  3945  \\\n",
       "index1                                             ...                      \n",
       "1           2 NaN NaN NaN NaN NaN NaN NaN NaN NaN  ...    NaN   NaN   NaN   \n",
       "2           1 NaN NaN NaN NaN NaN NaN NaN NaN NaN  ...    NaN   NaN   NaN   \n",
       "3           0 NaN NaN NaN NaN NaN NaN NaN NaN NaN  ...    NaN   NaN   NaN   \n",
       "4           1 NaN NaN NaN NaN NaN NaN NaN NaN NaN  ...    NaN   NaN   NaN   \n",
       "5           0 NaN NaN NaN NaN NaN NaN NaN NaN NaN  ...    NaN   NaN   NaN   \n",
       "\n",
       "        3946  3947  3948  3949  3950  3951  3952  \n",
       "index1                                            \n",
       "1        NaN   NaN   NaN   NaN   NaN   NaN   NaN  \n",
       "2        NaN   NaN   NaN   NaN   NaN   NaN   NaN  \n",
       "3        NaN   NaN   NaN   NaN   NaN   NaN   NaN  \n",
       "4        NaN   NaN   NaN   NaN   NaN   NaN   NaN  \n",
       "5        NaN   NaN   NaN   NaN   NaN   NaN   NaN  \n",
       "\n",
       "[5 rows x 3663 columns]"
      ]
     },
     "execution_count": 14,
     "metadata": {},
     "output_type": "execute_result"
    }
   ],
   "source": [
    "data_matrix_merged.iloc[0:5,:]"
   ]
  },
  {
   "cell_type": "code",
   "execution_count": 20,
   "metadata": {},
   "outputs": [],
   "source": [
    "#Filling in missing values with average of ratings given to a movie by users in that cluster\n",
    "data_matrix_merged1 = pd.read_csv('data_matrix_new.csv')\n",
    "data_matrix_merged1 = data_matrix_merged1.set_index('index1')\n",
    "cols=data_matrix_merged.columns\n",
    "data_matrix_merged1.columns = cols\n",
    "data_matrix_merged = data_matrix_merged1"
   ]
  },
  {
   "cell_type": "code",
   "execution_count": 21,
   "metadata": {},
   "outputs": [
    {
     "data": {
      "text/html": [
       "<div>\n",
       "<style scoped>\n",
       "    .dataframe tbody tr th:only-of-type {\n",
       "        vertical-align: middle;\n",
       "    }\n",
       "\n",
       "    .dataframe tbody tr th {\n",
       "        vertical-align: top;\n",
       "    }\n",
       "\n",
       "    .dataframe thead th {\n",
       "        text-align: right;\n",
       "    }\n",
       "</style>\n",
       "<table border=\"1\" class=\"dataframe\">\n",
       "  <thead>\n",
       "    <tr style=\"text-align: right;\">\n",
       "      <th></th>\n",
       "      <th>label</th>\n",
       "      <th>1</th>\n",
       "      <th>2</th>\n",
       "      <th>3</th>\n",
       "      <th>4</th>\n",
       "      <th>5</th>\n",
       "      <th>6</th>\n",
       "      <th>7</th>\n",
       "      <th>8</th>\n",
       "      <th>9</th>\n",
       "      <th>...</th>\n",
       "      <th>3943</th>\n",
       "      <th>3944</th>\n",
       "      <th>3945</th>\n",
       "      <th>3946</th>\n",
       "      <th>3947</th>\n",
       "      <th>3948</th>\n",
       "      <th>3949</th>\n",
       "      <th>3950</th>\n",
       "      <th>3951</th>\n",
       "      <th>3952</th>\n",
       "    </tr>\n",
       "    <tr>\n",
       "      <th>index1</th>\n",
       "      <th></th>\n",
       "      <th></th>\n",
       "      <th></th>\n",
       "      <th></th>\n",
       "      <th></th>\n",
       "      <th></th>\n",
       "      <th></th>\n",
       "      <th></th>\n",
       "      <th></th>\n",
       "      <th></th>\n",
       "      <th></th>\n",
       "      <th></th>\n",
       "      <th></th>\n",
       "      <th></th>\n",
       "      <th></th>\n",
       "      <th></th>\n",
       "      <th></th>\n",
       "      <th></th>\n",
       "      <th></th>\n",
       "      <th></th>\n",
       "      <th></th>\n",
       "    </tr>\n",
       "  </thead>\n",
       "  <tbody>\n",
       "    <tr>\n",
       "      <th>1</th>\n",
       "      <td>2</td>\n",
       "      <td>3.860215</td>\n",
       "      <td>3.300000</td>\n",
       "      <td>3.307692</td>\n",
       "      <td>3.333333</td>\n",
       "      <td>3.461538</td>\n",
       "      <td>3.769231</td>\n",
       "      <td>3.461538</td>\n",
       "      <td>2.833333</td>\n",
       "      <td>2.666667</td>\n",
       "      <td>...</td>\n",
       "      <td>2.500000</td>\n",
       "      <td>1.0</td>\n",
       "      <td>2.000000</td>\n",
       "      <td>2.333333</td>\n",
       "      <td>NaN</td>\n",
       "      <td>4.166667</td>\n",
       "      <td>5.000000</td>\n",
       "      <td>3.0</td>\n",
       "      <td>NaN</td>\n",
       "      <td>3.777778</td>\n",
       "    </tr>\n",
       "    <tr>\n",
       "      <th>2</th>\n",
       "      <td>1</td>\n",
       "      <td>4.054688</td>\n",
       "      <td>3.355556</td>\n",
       "      <td>2.974026</td>\n",
       "      <td>3.052632</td>\n",
       "      <td>3.028571</td>\n",
       "      <td>3.586538</td>\n",
       "      <td>3.506667</td>\n",
       "      <td>2.857143</td>\n",
       "      <td>3.000000</td>\n",
       "      <td>...</td>\n",
       "      <td>2.714286</td>\n",
       "      <td>5.0</td>\n",
       "      <td>2.000000</td>\n",
       "      <td>2.500000</td>\n",
       "      <td>3.400000</td>\n",
       "      <td>3.437500</td>\n",
       "      <td>4.000000</td>\n",
       "      <td>3.6</td>\n",
       "      <td>4.0</td>\n",
       "      <td>4.000000</td>\n",
       "    </tr>\n",
       "    <tr>\n",
       "      <th>3</th>\n",
       "      <td>0</td>\n",
       "      <td>4.138595</td>\n",
       "      <td>3.088685</td>\n",
       "      <td>3.039823</td>\n",
       "      <td>2.615385</td>\n",
       "      <td>2.881119</td>\n",
       "      <td>3.955140</td>\n",
       "      <td>3.378947</td>\n",
       "      <td>2.793103</td>\n",
       "      <td>2.592593</td>\n",
       "      <td>...</td>\n",
       "      <td>2.615385</td>\n",
       "      <td>1.0</td>\n",
       "      <td>1.277778</td>\n",
       "      <td>2.375000</td>\n",
       "      <td>3.666667</td>\n",
       "      <td>3.731801</td>\n",
       "      <td>4.377778</td>\n",
       "      <td>2.5</td>\n",
       "      <td>3.4</td>\n",
       "      <td>3.482353</td>\n",
       "    </tr>\n",
       "    <tr>\n",
       "      <th>4</th>\n",
       "      <td>1</td>\n",
       "      <td>4.054688</td>\n",
       "      <td>3.355556</td>\n",
       "      <td>2.974026</td>\n",
       "      <td>3.052632</td>\n",
       "      <td>3.028571</td>\n",
       "      <td>3.586538</td>\n",
       "      <td>3.506667</td>\n",
       "      <td>2.857143</td>\n",
       "      <td>3.000000</td>\n",
       "      <td>...</td>\n",
       "      <td>2.714286</td>\n",
       "      <td>5.0</td>\n",
       "      <td>2.000000</td>\n",
       "      <td>2.500000</td>\n",
       "      <td>3.400000</td>\n",
       "      <td>3.437500</td>\n",
       "      <td>4.000000</td>\n",
       "      <td>3.6</td>\n",
       "      <td>4.0</td>\n",
       "      <td>4.000000</td>\n",
       "    </tr>\n",
       "    <tr>\n",
       "      <th>5</th>\n",
       "      <td>0</td>\n",
       "      <td>4.138595</td>\n",
       "      <td>3.088685</td>\n",
       "      <td>3.039823</td>\n",
       "      <td>2.615385</td>\n",
       "      <td>2.881119</td>\n",
       "      <td>3.955140</td>\n",
       "      <td>3.378947</td>\n",
       "      <td>2.793103</td>\n",
       "      <td>2.592593</td>\n",
       "      <td>...</td>\n",
       "      <td>2.615385</td>\n",
       "      <td>1.0</td>\n",
       "      <td>1.277778</td>\n",
       "      <td>2.375000</td>\n",
       "      <td>3.666667</td>\n",
       "      <td>3.731801</td>\n",
       "      <td>4.377778</td>\n",
       "      <td>2.5</td>\n",
       "      <td>3.4</td>\n",
       "      <td>3.482353</td>\n",
       "    </tr>\n",
       "  </tbody>\n",
       "</table>\n",
       "<p>5 rows × 3663 columns</p>\n",
       "</div>"
      ],
      "text/plain": [
       "        label         1         2         3         4         5         6  \\\n",
       "index1                                                                      \n",
       "1           2  3.860215  3.300000  3.307692  3.333333  3.461538  3.769231   \n",
       "2           1  4.054688  3.355556  2.974026  3.052632  3.028571  3.586538   \n",
       "3           0  4.138595  3.088685  3.039823  2.615385  2.881119  3.955140   \n",
       "4           1  4.054688  3.355556  2.974026  3.052632  3.028571  3.586538   \n",
       "5           0  4.138595  3.088685  3.039823  2.615385  2.881119  3.955140   \n",
       "\n",
       "               7         8         9    ...         3943  3944      3945  \\\n",
       "index1                                  ...                                \n",
       "1       3.461538  2.833333  2.666667    ...     2.500000   1.0  2.000000   \n",
       "2       3.506667  2.857143  3.000000    ...     2.714286   5.0  2.000000   \n",
       "3       3.378947  2.793103  2.592593    ...     2.615385   1.0  1.277778   \n",
       "4       3.506667  2.857143  3.000000    ...     2.714286   5.0  2.000000   \n",
       "5       3.378947  2.793103  2.592593    ...     2.615385   1.0  1.277778   \n",
       "\n",
       "            3946      3947      3948      3949  3950  3951      3952  \n",
       "index1                                                                \n",
       "1       2.333333       NaN  4.166667  5.000000   3.0   NaN  3.777778  \n",
       "2       2.500000  3.400000  3.437500  4.000000   3.6   4.0  4.000000  \n",
       "3       2.375000  3.666667  3.731801  4.377778   2.5   3.4  3.482353  \n",
       "4       2.500000  3.400000  3.437500  4.000000   3.6   4.0  4.000000  \n",
       "5       2.375000  3.666667  3.731801  4.377778   2.5   3.4  3.482353  \n",
       "\n",
       "[5 rows x 3663 columns]"
      ]
     },
     "execution_count": 21,
     "metadata": {},
     "output_type": "execute_result"
    }
   ],
   "source": [
    "data_matrix_merged.iloc[0:5,:]"
   ]
  },
  {
   "cell_type": "code",
   "execution_count": 22,
   "metadata": {},
   "outputs": [],
   "source": [
    "#There are still some missing values, fill them in with column means (total average rating of a movie)\n",
    "#data_matrix_pd_fillna = data_matrix_pd.fillna(data['rating'].mean())\n",
    "for j in range(data_matrix_merged.shape[1]):\n",
    "    data_matrix_merged.iloc[:,j]=data_matrix_merged.iloc[:,j].fillna(data_matrix_merged.iloc[:,j].mean())"
   ]
  },
  {
   "cell_type": "code",
   "execution_count": 23,
   "metadata": {},
   "outputs": [
    {
     "data": {
      "text/html": [
       "<div>\n",
       "<style scoped>\n",
       "    .dataframe tbody tr th:only-of-type {\n",
       "        vertical-align: middle;\n",
       "    }\n",
       "\n",
       "    .dataframe tbody tr th {\n",
       "        vertical-align: top;\n",
       "    }\n",
       "\n",
       "    .dataframe thead th {\n",
       "        text-align: right;\n",
       "    }\n",
       "</style>\n",
       "<table border=\"1\" class=\"dataframe\">\n",
       "  <thead>\n",
       "    <tr style=\"text-align: right;\">\n",
       "      <th></th>\n",
       "      <th>label</th>\n",
       "      <th>1</th>\n",
       "      <th>2</th>\n",
       "      <th>3</th>\n",
       "      <th>4</th>\n",
       "      <th>5</th>\n",
       "      <th>6</th>\n",
       "      <th>7</th>\n",
       "      <th>8</th>\n",
       "      <th>9</th>\n",
       "      <th>...</th>\n",
       "      <th>3943</th>\n",
       "      <th>3944</th>\n",
       "      <th>3945</th>\n",
       "      <th>3946</th>\n",
       "      <th>3947</th>\n",
       "      <th>3948</th>\n",
       "      <th>3949</th>\n",
       "      <th>3950</th>\n",
       "      <th>3951</th>\n",
       "      <th>3952</th>\n",
       "    </tr>\n",
       "    <tr>\n",
       "      <th>index1</th>\n",
       "      <th></th>\n",
       "      <th></th>\n",
       "      <th></th>\n",
       "      <th></th>\n",
       "      <th></th>\n",
       "      <th></th>\n",
       "      <th></th>\n",
       "      <th></th>\n",
       "      <th></th>\n",
       "      <th></th>\n",
       "      <th></th>\n",
       "      <th></th>\n",
       "      <th></th>\n",
       "      <th></th>\n",
       "      <th></th>\n",
       "      <th></th>\n",
       "      <th></th>\n",
       "      <th></th>\n",
       "      <th></th>\n",
       "      <th></th>\n",
       "      <th></th>\n",
       "    </tr>\n",
       "  </thead>\n",
       "  <tbody>\n",
       "    <tr>\n",
       "      <th>1</th>\n",
       "      <td>2</td>\n",
       "      <td>3.860215</td>\n",
       "      <td>3.300000</td>\n",
       "      <td>3.307692</td>\n",
       "      <td>3.333333</td>\n",
       "      <td>3.461538</td>\n",
       "      <td>3.769231</td>\n",
       "      <td>3.461538</td>\n",
       "      <td>2.833333</td>\n",
       "      <td>2.666667</td>\n",
       "      <td>...</td>\n",
       "      <td>2.500000</td>\n",
       "      <td>1.0</td>\n",
       "      <td>2.000000</td>\n",
       "      <td>2.333333</td>\n",
       "      <td>3.341516</td>\n",
       "      <td>4.166667</td>\n",
       "      <td>5.000000</td>\n",
       "      <td>3.0</td>\n",
       "      <td>3.711157</td>\n",
       "      <td>3.777778</td>\n",
       "    </tr>\n",
       "    <tr>\n",
       "      <th>2</th>\n",
       "      <td>1</td>\n",
       "      <td>4.054688</td>\n",
       "      <td>3.355556</td>\n",
       "      <td>2.974026</td>\n",
       "      <td>3.052632</td>\n",
       "      <td>3.028571</td>\n",
       "      <td>3.586538</td>\n",
       "      <td>3.506667</td>\n",
       "      <td>2.857143</td>\n",
       "      <td>3.000000</td>\n",
       "      <td>...</td>\n",
       "      <td>2.714286</td>\n",
       "      <td>5.0</td>\n",
       "      <td>2.000000</td>\n",
       "      <td>2.500000</td>\n",
       "      <td>3.400000</td>\n",
       "      <td>3.437500</td>\n",
       "      <td>4.000000</td>\n",
       "      <td>3.6</td>\n",
       "      <td>4.000000</td>\n",
       "      <td>4.000000</td>\n",
       "    </tr>\n",
       "    <tr>\n",
       "      <th>3</th>\n",
       "      <td>0</td>\n",
       "      <td>4.138595</td>\n",
       "      <td>3.088685</td>\n",
       "      <td>3.039823</td>\n",
       "      <td>2.615385</td>\n",
       "      <td>2.881119</td>\n",
       "      <td>3.955140</td>\n",
       "      <td>3.378947</td>\n",
       "      <td>2.793103</td>\n",
       "      <td>2.592593</td>\n",
       "      <td>...</td>\n",
       "      <td>2.615385</td>\n",
       "      <td>1.0</td>\n",
       "      <td>1.277778</td>\n",
       "      <td>2.375000</td>\n",
       "      <td>3.666667</td>\n",
       "      <td>3.731801</td>\n",
       "      <td>4.377778</td>\n",
       "      <td>2.5</td>\n",
       "      <td>3.400000</td>\n",
       "      <td>3.482353</td>\n",
       "    </tr>\n",
       "    <tr>\n",
       "      <th>4</th>\n",
       "      <td>1</td>\n",
       "      <td>4.054688</td>\n",
       "      <td>3.355556</td>\n",
       "      <td>2.974026</td>\n",
       "      <td>3.052632</td>\n",
       "      <td>3.028571</td>\n",
       "      <td>3.586538</td>\n",
       "      <td>3.506667</td>\n",
       "      <td>2.857143</td>\n",
       "      <td>3.000000</td>\n",
       "      <td>...</td>\n",
       "      <td>2.714286</td>\n",
       "      <td>5.0</td>\n",
       "      <td>2.000000</td>\n",
       "      <td>2.500000</td>\n",
       "      <td>3.400000</td>\n",
       "      <td>3.437500</td>\n",
       "      <td>4.000000</td>\n",
       "      <td>3.6</td>\n",
       "      <td>4.000000</td>\n",
       "      <td>4.000000</td>\n",
       "    </tr>\n",
       "    <tr>\n",
       "      <th>5</th>\n",
       "      <td>0</td>\n",
       "      <td>4.138595</td>\n",
       "      <td>3.088685</td>\n",
       "      <td>3.039823</td>\n",
       "      <td>2.615385</td>\n",
       "      <td>2.881119</td>\n",
       "      <td>3.955140</td>\n",
       "      <td>3.378947</td>\n",
       "      <td>2.793103</td>\n",
       "      <td>2.592593</td>\n",
       "      <td>...</td>\n",
       "      <td>2.615385</td>\n",
       "      <td>1.0</td>\n",
       "      <td>1.277778</td>\n",
       "      <td>2.375000</td>\n",
       "      <td>3.666667</td>\n",
       "      <td>3.731801</td>\n",
       "      <td>4.377778</td>\n",
       "      <td>2.5</td>\n",
       "      <td>3.400000</td>\n",
       "      <td>3.482353</td>\n",
       "    </tr>\n",
       "  </tbody>\n",
       "</table>\n",
       "<p>5 rows × 3663 columns</p>\n",
       "</div>"
      ],
      "text/plain": [
       "        label         1         2         3         4         5         6  \\\n",
       "index1                                                                      \n",
       "1           2  3.860215  3.300000  3.307692  3.333333  3.461538  3.769231   \n",
       "2           1  4.054688  3.355556  2.974026  3.052632  3.028571  3.586538   \n",
       "3           0  4.138595  3.088685  3.039823  2.615385  2.881119  3.955140   \n",
       "4           1  4.054688  3.355556  2.974026  3.052632  3.028571  3.586538   \n",
       "5           0  4.138595  3.088685  3.039823  2.615385  2.881119  3.955140   \n",
       "\n",
       "               7         8         9    ...         3943  3944      3945  \\\n",
       "index1                                  ...                                \n",
       "1       3.461538  2.833333  2.666667    ...     2.500000   1.0  2.000000   \n",
       "2       3.506667  2.857143  3.000000    ...     2.714286   5.0  2.000000   \n",
       "3       3.378947  2.793103  2.592593    ...     2.615385   1.0  1.277778   \n",
       "4       3.506667  2.857143  3.000000    ...     2.714286   5.0  2.000000   \n",
       "5       3.378947  2.793103  2.592593    ...     2.615385   1.0  1.277778   \n",
       "\n",
       "            3946      3947      3948      3949  3950      3951      3952  \n",
       "index1                                                                    \n",
       "1       2.333333  3.341516  4.166667  5.000000   3.0  3.711157  3.777778  \n",
       "2       2.500000  3.400000  3.437500  4.000000   3.6  4.000000  4.000000  \n",
       "3       2.375000  3.666667  3.731801  4.377778   2.5  3.400000  3.482353  \n",
       "4       2.500000  3.400000  3.437500  4.000000   3.6  4.000000  4.000000  \n",
       "5       2.375000  3.666667  3.731801  4.377778   2.5  3.400000  3.482353  \n",
       "\n",
       "[5 rows x 3663 columns]"
      ]
     },
     "execution_count": 23,
     "metadata": {},
     "output_type": "execute_result"
    }
   ],
   "source": [
    "data_matrix_merged.iloc[0:5,:]"
   ]
  },
  {
   "cell_type": "code",
   "execution_count": 24,
   "metadata": {},
   "outputs": [],
   "source": [
    "#Convert the wide matrix into long format for ALS model\n",
    "data_matrix_merged = data_matrix_merged.drop('label',axis=1)\n",
    "data_matrix_long=data_matrix_merged.unstack().reset_index()\n",
    "data_matrix_long.rename(columns ={'level_0': 'movie','index1': 'user',0: 'rating'}, inplace =True)"
   ]
  },
  {
   "cell_type": "code",
   "execution_count": 25,
   "metadata": {},
   "outputs": [
    {
     "data": {
      "text/html": [
       "<div>\n",
       "<style scoped>\n",
       "    .dataframe tbody tr th:only-of-type {\n",
       "        vertical-align: middle;\n",
       "    }\n",
       "\n",
       "    .dataframe tbody tr th {\n",
       "        vertical-align: top;\n",
       "    }\n",
       "\n",
       "    .dataframe thead th {\n",
       "        text-align: right;\n",
       "    }\n",
       "</style>\n",
       "<table border=\"1\" class=\"dataframe\">\n",
       "  <thead>\n",
       "    <tr style=\"text-align: right;\">\n",
       "      <th></th>\n",
       "      <th>movie</th>\n",
       "      <th>user</th>\n",
       "      <th>rating</th>\n",
       "    </tr>\n",
       "  </thead>\n",
       "  <tbody>\n",
       "    <tr>\n",
       "      <th>0</th>\n",
       "      <td>1</td>\n",
       "      <td>1</td>\n",
       "      <td>3.860215</td>\n",
       "    </tr>\n",
       "    <tr>\n",
       "      <th>1</th>\n",
       "      <td>1</td>\n",
       "      <td>2</td>\n",
       "      <td>4.054688</td>\n",
       "    </tr>\n",
       "    <tr>\n",
       "      <th>2</th>\n",
       "      <td>1</td>\n",
       "      <td>3</td>\n",
       "      <td>4.138595</td>\n",
       "    </tr>\n",
       "    <tr>\n",
       "      <th>3</th>\n",
       "      <td>1</td>\n",
       "      <td>4</td>\n",
       "      <td>4.054688</td>\n",
       "    </tr>\n",
       "    <tr>\n",
       "      <th>4</th>\n",
       "      <td>1</td>\n",
       "      <td>5</td>\n",
       "      <td>4.138595</td>\n",
       "    </tr>\n",
       "  </tbody>\n",
       "</table>\n",
       "</div>"
      ],
      "text/plain": [
       "   movie  user    rating\n",
       "0      1     1  3.860215\n",
       "1      1     2  4.054688\n",
       "2      1     3  4.138595\n",
       "3      1     4  4.054688\n",
       "4      1     5  4.138595"
      ]
     },
     "execution_count": 25,
     "metadata": {},
     "output_type": "execute_result"
    }
   ],
   "source": [
    "data_matrix_long.iloc[0:5,:]"
   ]
  },
  {
   "cell_type": "code",
   "execution_count": 26,
   "metadata": {},
   "outputs": [],
   "source": [
    "spark_df = spark.createDataFrame(data_matrix_long) "
   ]
  },
  {
   "cell_type": "code",
   "execution_count": 29,
   "metadata": {},
   "outputs": [],
   "source": [
    "train, test = spark_df.randomSplit([0.8, 0.2], seed=427471138)"
   ]
  },
  {
   "cell_type": "code",
   "execution_count": 28,
   "metadata": {},
   "outputs": [
    {
     "data": {
      "text/plain": [
       "DataFrame[movie: bigint, user: bigint, rating: double]"
      ]
     },
     "execution_count": 28,
     "metadata": {},
     "output_type": "execute_result"
    }
   ],
   "source": [
    "spark_df.cache()"
   ]
  },
  {
   "cell_type": "markdown",
   "metadata": {},
   "source": [
    "Caching the new dataframe to memory, as it will perform better (run faster)"
   ]
  },
  {
   "cell_type": "code",
   "execution_count": 50,
   "metadata": {},
   "outputs": [],
   "source": [
    "# Create an untrained ALS model.\n",
    "als_model = ALS(\n",
    "    itemCol='movie',\n",
    "    userCol='user',\n",
    "    ratingCol='rating',\n",
    "    regParam = 0.1,\n",
    "    nonnegative=True) "
   ]
  },
  {
   "cell_type": "code",
   "execution_count": 48,
   "metadata": {},
   "outputs": [],
   "source": [
    "spark_df = spark.read.csv('data_matrix_long.csv',header=True,inferSchema=True)"
   ]
  },
  {
   "cell_type": "code",
   "execution_count": 49,
   "metadata": {},
   "outputs": [],
   "source": [
    "train, test = spark_df.randomSplit([0.8, 0.2], seed=427471138)"
   ]
  },
  {
   "cell_type": "code",
   "execution_count": 51,
   "metadata": {},
   "outputs": [],
   "source": [
    "recommender = als_model.fit(train)"
   ]
  },
  {
   "cell_type": "code",
   "execution_count": 52,
   "metadata": {},
   "outputs": [],
   "source": [
    "##Add predictions\n",
    "train_tr = recommender.transform(train)\n",
    "test_tr = recommender.transform(test)\n",
    "\n",
    "evaluator = RegressionEvaluator(predictionCol=\"prediction\", labelCol=\"rating\",metricName=\"rmse\")\n",
    "\n",
    "rmse_train=evaluator.evaluate(train_tr)\n",
    "rmse_test=evaluator.evaluate(test_tr)"
   ]
  },
  {
   "cell_type": "code",
   "execution_count": 53,
   "metadata": {},
   "outputs": [
    {
     "data": {
      "text/plain": [
       "0.2958990485296767"
      ]
     },
     "execution_count": 53,
     "metadata": {},
     "output_type": "execute_result"
    }
   ],
   "source": [
    "rmse_train"
   ]
  },
  {
   "cell_type": "code",
   "execution_count": 54,
   "metadata": {},
   "outputs": [
    {
     "data": {
      "text/plain": [
       "0.2959125836679897"
      ]
     },
     "execution_count": 54,
     "metadata": {},
     "output_type": "execute_result"
    }
   ],
   "source": [
    "rmse_test"
   ]
  },
  {
   "cell_type": "markdown",
   "metadata": {},
   "source": [
    "We believe these are pretty good train and test scores, as they are pretty close, but let's implement a grid search, to look over the parameters of our model, to see if we can tune our hyperparameters, and squeeze out better performance for our model."
   ]
  },
  {
   "cell_type": "code",
   "execution_count": 56,
   "metadata": {},
   "outputs": [],
   "source": [
    "#Grid search\n",
    "param_grid = ParamGridBuilder()\\\n",
    "                .addGrid(als_model.rank, [5, 10, 15, 20])\\\n",
    "                .addGrid(als_model.maxIter, [1, 2, 3, 4, 5])\\\n",
    "                .addGrid(als_model.regParam, [0.05, 0.1, 0.15, 0.2])\\\n",
    "                .build()\n",
    "\n",
    "evaluator = RegressionEvaluator(predictionCol=\"prediction\", labelCol=\"rating\",metricName=\"rmse\")\n",
    "\n",
    "tvs = TrainValidationSplit(\n",
    "        estimator = als_model,\n",
    "        estimatorParamMaps=param_grid,\n",
    "        evaluator=evaluator)\n",
    "\n",
    "model = tvs.fit(train)\n",
    "best_model = model.bestModel"
   ]
  },
  {
   "cell_type": "code",
   "execution_count": 61,
   "metadata": {},
   "outputs": [],
   "source": [
    "train_tr = best_model.transform(train)\n",
    "test_tr = best_model.transform(test)"
   ]
  },
  {
   "cell_type": "code",
   "execution_count": 62,
   "metadata": {},
   "outputs": [
    {
     "name": "stdout",
     "output_type": "stream",
     "text": [
      "5\n",
      "5\n",
      "0.05\n"
     ]
    }
   ],
   "source": [
    "rmse_train=evaluator.evaluate(train_tr)\n",
    "rmse_test=evaluator.evaluate(test_tr)\n",
    "print(best_model.rank)\n",
    "print(best_model._java_obj.parent().getMaxIter())\n",
    "print(best_model._java_obj.parent().getRegParam())"
   ]
  },
  {
   "cell_type": "code",
   "execution_count": 63,
   "metadata": {},
   "outputs": [
    {
     "data": {
      "text/plain": [
       "0.2911126805085439"
      ]
     },
     "execution_count": 63,
     "metadata": {},
     "output_type": "execute_result"
    }
   ],
   "source": [
    "rmse_train"
   ]
  },
  {
   "cell_type": "code",
   "execution_count": 64,
   "metadata": {},
   "outputs": [
    {
     "data": {
      "text/plain": [
       "0.2917141254511486"
      ]
     },
     "execution_count": 64,
     "metadata": {},
     "output_type": "execute_result"
    }
   ],
   "source": [
    "rmse_test"
   ]
  },
  {
   "cell_type": "markdown",
   "metadata": {},
   "source": [
    "It looks like our model would have done better, if our hyperparameters had these values, so we will change these to match our grid search's findings."
   ]
  },
  {
   "cell_type": "code",
   "execution_count": 65,
   "metadata": {},
   "outputs": [],
   "source": [
    "# Create final model.\n",
    "als_model = ALS(\n",
    "    itemCol='movie',\n",
    "    userCol='user',\n",
    "    ratingCol='rating',\n",
    "    regParam = 0.05,\n",
    "    rank = 5,\n",
    "    maxIter = 5,\n",
    "    nonnegative=True) "
   ]
  },
  {
   "cell_type": "code",
   "execution_count": 66,
   "metadata": {},
   "outputs": [],
   "source": [
    "recommender = als_model.fit(spark_df)"
   ]
  },
  {
   "cell_type": "code",
   "execution_count": 68,
   "metadata": {},
   "outputs": [],
   "source": [
    "data_requests_spark_tr = recommender.transform(data_requests_spark)"
   ]
  },
  {
   "cell_type": "code",
   "execution_count": 72,
   "metadata": {},
   "outputs": [
    {
     "data": {
      "text/plain": [
       "[Row(user=5333, movie=148, prediction=2.7842154502868652),\n",
       " Row(user=840, movie=148, prediction=2.7613234519958496),\n",
       " Row(user=216, movie=148, prediction=2.7925286293029785),\n",
       " Row(user=482, movie=148, prediction=2.7580721378326416),\n",
       " Row(user=752, movie=148, prediction=2.685802698135376)]"
      ]
     },
     "execution_count": 72,
     "metadata": {},
     "output_type": "execute_result"
    }
   ],
   "source": [
    "data_requests_spark_tr.take(5)"
   ]
  },
  {
   "cell_type": "code",
   "execution_count": 82,
   "metadata": {},
   "outputs": [],
   "source": [
    "data_requests_spark_pd = data_requests_spark_tr.toPandas()\n",
    "data_requests_spark_pd.rename(columns={'prediction':'rating'}, inplace=True)"
   ]
  },
  {
   "cell_type": "code",
   "execution_count": 85,
   "metadata": {},
   "outputs": [],
   "source": [
    "data_requests_spark_pd = data_requests_spark_pd.fillna(data_matrix_long['rating'].mean())"
   ]
  },
  {
   "cell_type": "code",
   "execution_count": 87,
   "metadata": {},
   "outputs": [],
   "source": [
    "data_requests_spark_pd.to_csv('submission.csv',columns=[\"user\",\"movie\",\"rating\"], index=False)"
   ]
  },
  {
   "cell_type": "markdown",
   "metadata": {},
   "source": [
    "After our ratings predictions got checked against the hidden user data set, to see well our model performed, we got score=4.27985347985348, which was the highest in class.\n",
    "\n",
    "We were ultimately looking at the top 5% of the movies ratings of the hidden data set, because our recommender system would only be recommending movies that the user would like, and thus likely to give a high score, and so our 4.28 predicted rating is close to what we would look for and feel confident in our recommending selection to a given user"
   ]
  },
  {
   "cell_type": "markdown",
   "metadata": {},
   "source": [
    "WHAT TO DO NEXT"
   ]
  },
  {
   "cell_type": "markdown",
   "metadata": {},
   "source": [
    "#1 . Cluster based on the movie data folder we were given.  We ultimately thought that the movie data clustering would be a better predictor than the user data information, but given time constraints, user data was much simpler, and we still had to overcome problems of populating an extremely sparse matrix.\n",
    "#2.  Use the user metadata directly from the website, to find out more and ultimately cluster based on that.  We could use NLP techniques to find out which movies are similar, then use a clustering technique, and ultimately we think this would have generated the best model, but we found out quickly, the meta data wasn't formatted optimally to go down this path."
   ]
  },
  {
   "cell_type": "code",
   "execution_count": null,
   "metadata": {},
   "outputs": [],
   "source": []
  }
 ],
 "metadata": {
  "kernelspec": {
   "display_name": "Python 3",
   "language": "python",
   "name": "python3"
  },
  "language_info": {
   "codemirror_mode": {
    "name": "ipython",
    "version": 3
   },
   "file_extension": ".py",
   "mimetype": "text/x-python",
   "name": "python",
   "nbconvert_exporter": "python",
   "pygments_lexer": "ipython3",
   "version": "3.6.7"
  }
 },
 "nbformat": 4,
 "nbformat_minor": 2
}
